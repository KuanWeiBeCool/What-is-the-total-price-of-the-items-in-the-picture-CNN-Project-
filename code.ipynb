{
  "nbformat": 4,
  "nbformat_minor": 0,
  "metadata": {
    "colab": {
      "name": "Final Assignment 3.ipynb",
      "provenance": [],
      "collapsed_sections": [],
      "toc_visible": true
    },
    "kernelspec": {
      "display_name": "Python 3",
      "name": "python3"
    },
    "accelerator": "GPU"
  },
  "cells": [
    {
      "cell_type": "markdown",
      "metadata": {
        "id": "OlpTh-YGsGfe"
      },
      "source": [
        "# Import Packages"
      ]
    },
    {
      "cell_type": "code",
      "metadata": {
        "id": "DL1kXtk7jWv5",
        "colab": {
          "base_uri": "https://localhost:8080/"
        },
        "outputId": "257f5904-456d-460d-8f87-1792a89a5f98"
      },
      "source": [
        "from google.colab import drive\n",
        "drive.mount('/content/drive')"
      ],
      "execution_count": null,
      "outputs": [
        {
          "output_type": "stream",
          "text": [
            "Drive already mounted at /content/drive; to attempt to forcibly remount, call drive.mount(\"/content/drive\", force_remount=True).\n"
          ],
          "name": "stdout"
        }
      ]
    },
    {
      "cell_type": "code",
      "metadata": {
        "id": "oQJhUW1jNa7n"
      },
      "source": [
        "import pickle\n",
        "import matplotlib.pyplot as plt\n",
        "import seaborn as sns\n",
        "import numpy as np\n",
        "import pandas as pd\n",
        "from torchvision import transforms\n",
        "from torch.utils.data import Dataset\n",
        "from torch.utils.data import DataLoader\n",
        "from PIL import Image\n",
        "import torch\n",
        "import torch.nn as nn\n",
        "import torch.nn.functional as F\n",
        "import torch.optim as optim\n",
        "from tqdm import tqdm"
      ],
      "execution_count": null,
      "outputs": []
    },
    {
      "cell_type": "code",
      "metadata": {
        "id": "zYA7BFc0zWrP"
      },
      "source": [
        "from functools import partial\n",
        "tqdm = partial(tqdm, position=0, leave=False)"
      ],
      "execution_count": null,
      "outputs": []
    },
    {
      "cell_type": "markdown",
      "metadata": {
        "id": "ZHRuyFrcGw3q"
      },
      "source": [
        "# Load data"
      ]
    },
    {
      "cell_type": "code",
      "metadata": {
        "id": "3hUHLSVQDL_Y"
      },
      "source": [
        "# Transforms are common image transformations. They can be chained together using Compose.\n",
        "# Here we normalize images img=(img-0.5)/0.5\n",
        "img_transform = transforms.Compose([\n",
        "    transforms.Resize((64, 64)),                                \n",
        "    transforms.ToTensor(),\n",
        "    transforms.Normalize([0.5], [0.5])\n",
        "])\n",
        "transform_train = transforms.Compose([\n",
        "    transforms.Resize((64, 64)),\n",
        "    transforms.RandomHorizontalFlip(),\n",
        "    transforms.RandomRotation(degrees=(-10, 10)),\n",
        "    transforms.RandomCrop((64, 64), padding=(8, 8)),\n",
        "    transforms.ToTensor(),\n",
        "    transforms.Normalize([0.5], [0.5]),\n",
        "])"
      ],
      "execution_count": null,
      "outputs": []
    },
    {
      "cell_type": "code",
      "metadata": {
        "id": "3NrHr4gDDy8n"
      },
      "source": [
        "# img_file: the pickle file containing the images\n",
        "# label_file: the .csv file containing the labels\n",
        "# transform: We use it for normalizing images (see above)\n",
        "# idx: This is a binary vector that is useful for creating training and validation set.\n",
        "# It return only samples where idx is True\n",
        "\n",
        "class MyDataset(Dataset):\n",
        "    def __init__(self, img_file, label_file, transform=None, idx = None):\n",
        "        self.data = pickle.load( open( img_file, 'rb' ), encoding='bytes')\n",
        "        self.targets = np.genfromtxt(label_file, delimiter=',', skip_header=1)[:,1:] - 5 # convert from 5-13 to 0-8\n",
        "        if idx is not None:\n",
        "          self.targets = self.targets[idx]\n",
        "          self.data = self.data[idx]\n",
        "        self.transform = transform\n",
        "\n",
        "    def __len__(self):\n",
        "        return len(self.targets)\n",
        "\n",
        "    def __getitem__(self, index):\n",
        "        img, target = self.data[index], int(self.targets[index])\n",
        "        img = Image.fromarray(img.astype('uint8'), mode='L')\n",
        "\n",
        "        if self.transform is not None:\n",
        "           img = self.transform(img)\n",
        "\n",
        "        return img, target"
      ],
      "execution_count": null,
      "outputs": []
    },
    {
      "cell_type": "code",
      "metadata": {
        "id": "J01sY5tJD0J1"
      },
      "source": [
        "# Read image data and their label into a Dataset class\n",
        "dataset = MyDataset('/content/drive/MyDrive/ECSE 551 Group 3/Assignment 3/Train.pkl', '/content/drive/MyDrive/ECSE 551 Group 3/Assignment 3/TrainLabels.csv',transform=transform_train, idx=None)\n",
        "batch_size = 64 #feel free to change it\n",
        "dataloader = DataLoader(dataset, batch_size=batch_size, shuffle=True)"
      ],
      "execution_count": null,
      "outputs": []
    },
    {
      "cell_type": "code",
      "metadata": {
        "id": "0cno13E5FemR"
      },
      "source": [
        "idx = np.arange(60000)\n",
        "np.random.shuffle(idx)\n",
        "train_idx = idx[:50000]\n",
        "valid_idx = idx[50000:]\n",
        "# Read image data and their label into a Dataset class\n",
        "train_dataset = MyDataset('/content/drive/MyDrive/ECSE 551 Group 3/Assignment 3/Train.pkl', '/content/drive/MyDrive/ECSE 551 Group 3/Assignment 3/TrainLabels.csv',transform=transform_train, idx=train_idx)\n",
        "valid_dataset = MyDataset('/content/drive/MyDrive/ECSE 551 Group 3/Assignment 3/Train.pkl', '/content/drive/MyDrive/ECSE 551 Group 3/Assignment 3/TrainLabels.csv',transform=img_transform, idx=valid_idx)\n",
        "batch_size = 64 #feel free to change it\n",
        "train_dataloader = DataLoader(train_dataset, batch_size=batch_size, shuffle=True)\n",
        "valid_dataloader = DataLoader(valid_dataset, batch_size=batch_size, shuffle=True)"
      ],
      "execution_count": null,
      "outputs": []
    },
    {
      "cell_type": "code",
      "metadata": {
        "colab": {
          "base_uri": "https://localhost:8080/",
          "height": 286
        },
        "id": "qVOwA6WPEME-",
        "outputId": "8ee400d3-5833-44e5-9c65-45217accb9c3"
      },
      "source": [
        "# Read a batch of data and their labels and display them\n",
        "# Note that since data are transformed, they are between [-1,1]\n",
        "imgs, labels = (next(iter(valid_dataloader)))\n",
        "imgs = np.squeeze(imgs)\n",
        "plt.imshow(imgs[1].cpu().numpy(),cmap='gray', vmin=-1, vmax=1) #.transpose()\n",
        "print(labels[1])"
      ],
      "execution_count": null,
      "outputs": [
        {
          "output_type": "stream",
          "text": [
            "tensor(0)\n"
          ],
          "name": "stdout"
        },
        {
          "output_type": "display_data",
          "data": {
            "image/png": "[encoded data removed]",
            "text/plain": [
              "<Figure size 432x288 with 1 Axes>"
            ]
          },
          "metadata": {
            "tags": [],
            "needs_background": "light"
          }
        }
      ]
    },
    {
      "cell_type": "code",
      "metadata": {
        "id": "m-PmxPajEMs-"
      },
      "source": [
        "train_classes = {}\n",
        "for data in train_dataloader:\n",
        "  [img,label] = data\n",
        "  # img.type(dtype=dtype)\n",
        "  # label.type(dtype=dtype)\n",
        "  for label in label:\n",
        "    if label.item() not in train_classes:\n",
        "      train_classes[label.item()] = 1\n",
        "    else:\n",
        "      train_classes[label.item()] += 1\n",
        "valid_classes = {}\n",
        "for data in valid_dataloader:\n",
        "  [img,label] = data\n",
        "  # img.type(dtype=dtype)\n",
        "  # label.type(dtype=dtype)\n",
        "  for label in label:\n",
        "    if label.item() not in valid_classes:\n",
        "      valid_classes[label.item()] = 1\n",
        "    else:\n",
        "      valid_classes[label.item()] += 1"
      ],
      "execution_count": null,
      "outputs": []
    },
    {
      "cell_type": "code",
      "metadata": {
        "colab": {
          "base_uri": "https://localhost:8080/"
        },
        "id": "lrTkPAOwEBuc",
        "outputId": "6adf62d5-e0bb-4106-af2b-6ef87f93925d"
      },
      "source": [
        "print(train_classes)\n",
        "print(valid_classes)"
      ],
      "execution_count": null,
      "outputs": [
        {
          "output_type": "stream",
          "text": [
            "{1: 5538, 8: 5509, 5: 5552, 6: 5539, 2: 5529, 3: 5596, 0: 5555, 4: 5588, 7: 5594}\n",
            "{8: 1157, 2: 1138, 3: 1071, 6: 1127, 1: 1129, 5: 1115, 4: 1079, 0: 1112, 7: 1072}\n"
          ],
          "name": "stdout"
        }
      ]
    },
    {
      "cell_type": "markdown",
      "metadata": {
        "id": "gUaTNWIhGun9"
      },
      "source": [
        "# Build Model"
      ]
    },
    {
      "cell_type": "markdown",
      "metadata": {
        "id": "BS-EvaSZsWGw"
      },
      "source": [
        "### Model 1"
      ]
    },
    {
      "cell_type": "code",
      "metadata": {
        "id": "bW02Bo7MGRLR"
      },
      "source": [
        "conv_neuron = 25\n",
        "fc_neuron = 350\n",
        "class Net(nn.Module):\n",
        "    def __init__(self):\n",
        "        super(Net, self).__init__()\n",
        "        self.conv1 = nn.Conv2d(1, conv_neuron, kernel_size=3, padding=1)\n",
        "        self.conv2 = nn.Conv2d(conv_neuron, conv_neuron*2, kernel_size=3, padding=1)\n",
        "        self.conv3 = nn.Conv2d(conv_neuron*2, conv_neuron*4, kernel_size=3, padding=1)\n",
        "        self.conv4 = nn.Conv2d(conv_neuron*4, conv_neuron*8, kernel_size=3, padding=1)\n",
        "        self.dropout = nn.Dropout(0.5)\n",
        "        x = torch.randn(64, 64).view(-1, 1, 64, 64)\n",
        "        self.to_linear = None\n",
        "        self.convs(x)\n",
        "        self.fc1 = nn.Linear(self.to_linear, fc_neuron)\n",
        "        self.fc2 = nn.Linear(fc_neuron, 9)\n",
        "    def convs(self, x):\n",
        "      x = F.max_pool2d(F.relu(self.conv1(x)), (2, 2))\n",
        "      x = F.max_pool2d(F.relu(self.conv2(x)), (2, 2))\n",
        "      x = F.max_pool2d(F.relu(self.conv3(x)), (2, 2))\n",
        "      x = F.max_pool2d(F.relu(self.conv4(x)), (2, 2))\n",
        "      if self.to_linear == None:\n",
        "          self.to_linear = x[0].shape[0]*x[0].shape[1]*x[0].shape[2]\n",
        "      return x\n",
        "    \n",
        "    def forward(self, x):\n",
        "      x = self.convs(x)\n",
        "      x = x.view(-1, self.to_linear)\n",
        "      x = F.relu(self.fc1(x))\n",
        "      x = self.dropout(x)\n",
        "      x = self.fc2(x)\n",
        "      return F.log_softmax(x, dim=0)"
      ],
      "execution_count": null,
      "outputs": []
    },
    {
      "cell_type": "markdown",
      "metadata": {
        "id": "wZCqRBT4tHxl"
      },
      "source": [
        "### Model 2"
      ]
    },
    {
      "cell_type": "code",
      "metadata": {
        "id": "3bPp5HKOsaDO"
      },
      "source": [
        "conv_neuron = 40\n",
        "fc_neuron = 1024\n",
        "class Net(nn.Module):\n",
        "    def __init__(self):\n",
        "        super(Net, self).__init__()\n",
        "        self.conv1 = nn.Conv2d(1, conv_neuron, kernel_size=3, padding=1)\n",
        "        self.conv2 = nn.Conv2d(conv_neuron, conv_neuron*2, kernel_size=3, padding=1)\n",
        "        self.conv3 = nn.Conv2d(conv_neuron*2, conv_neuron*4, kernel_size=3, padding=1)\n",
        "        self.conv4 = nn.Conv2d(conv_neuron*4, conv_neuron*8, kernel_size=3, padding=1)\n",
        "        self.dropout = nn.Dropout(0.5)\n",
        "        x = torch.randn(64, 64).view(-1, 1, 64, 64)\n",
        "        self.to_linear = None\n",
        "        self.convs(x)\n",
        "        self.fc1 = nn.Linear(self.to_linear, fc_neuron)\n",
        "        self.fc2 = nn.Linear(fc_neuron, 9)\n",
        "    def convs(self, x):\n",
        "      x = F.max_pool2d(F.relu(self.conv1(x)), (2, 2))\n",
        "      x = F.max_pool2d(F.relu(self.conv2(x)), (2, 2))\n",
        "      x = F.max_pool2d(F.relu(self.conv3(x)), (2, 2))\n",
        "      x = F.max_pool2d(F.relu(self.conv4(x)), (2, 2))\n",
        "      if self.to_linear == None:\n",
        "          self.to_linear = x[0].shape[0]*x[0].shape[1]*x[0].shape[2]\n",
        "      return x\n",
        "    \n",
        "    def forward(self, x):\n",
        "      x = self.convs(x)\n",
        "      x = x.view(-1, self.to_linear)\n",
        "      x = F.relu(self.fc1(x))\n",
        "      x = self.dropout(x)\n",
        "      x = self.fc2(x)\n",
        "      return F.log_softmax(x, dim=0)"
      ],
      "execution_count": null,
      "outputs": []
    },
    {
      "cell_type": "markdown",
      "metadata": {
        "id": "ZaiK3s_6trH2"
      },
      "source": [
        "### Model 3"
      ]
    },
    {
      "cell_type": "code",
      "metadata": {
        "id": "7v8sDU3Vp48A"
      },
      "source": [
        "conv_neuron = 32\n",
        "fc_neuron = 1250\n",
        "class Net(nn.Module):\n",
        "    def __init__(self):\n",
        "        super(Net, self).__init__()\n",
        "        # First Conv\n",
        "        self.conv1 = nn.Conv2d(1, conv_neuron, kernel_size=5, padding=2)\n",
        "        self.conv2 = nn.Conv2d(conv_neuron, conv_neuron, kernel_size=5, padding=2)\n",
        "        self.conv3 = nn.Conv2d(conv_neuron, conv_neuron, kernel_size=5, padding=2)\n",
        "        self.bn1 = nn.BatchNorm2d(conv_neuron)\n",
        "        # Second Conv\n",
        "        self.conv4 = nn.Conv2d(conv_neuron, conv_neuron*2, kernel_size=3, padding=1)\n",
        "        self.conv5 = nn.Conv2d(conv_neuron*2, conv_neuron*2, kernel_size=3, padding=1)\n",
        "        self.conv6 = nn.Conv2d(conv_neuron*2, conv_neuron*2, kernel_size=3, padding=1)\n",
        "        self.bn2 = nn.BatchNorm2d(conv_neuron*2)\n",
        "        # Third Conv\n",
        "        self.conv7 = nn.Conv2d(conv_neuron*2, conv_neuron*4, kernel_size=3, padding=1)\n",
        "        self.conv8 = nn.Conv2d(conv_neuron*4, conv_neuron*4, kernel_size=3, padding=1)\n",
        "        self.conv9 = nn.Conv2d(conv_neuron*4, conv_neuron*4, kernel_size=3, padding=1)\n",
        "        self.bn3 = nn.BatchNorm2d(conv_neuron*4)\n",
        "        # Fourth Conv\n",
        "        self.conv10 = nn.Conv2d(conv_neuron*4, conv_neuron*8, kernel_size=3, padding=1)\n",
        "        self.conv11 = nn.Conv2d(conv_neuron*8, conv_neuron*8, kernel_size=3, padding=1)\n",
        "        self.conv12 = nn.Conv2d(conv_neuron*8, conv_neuron*8, kernel_size=3, padding=1)\n",
        "        self.bn4 = nn.BatchNorm2d(conv_neuron*8)\n",
        "        self.dropout = nn.Dropout(0.5)\n",
        "        x = torch.randn(64, 64).view(-1, 1, 64, 64)\n",
        "        self.to_linear = None\n",
        "        self.convs(x)\n",
        "        self.fc1 = nn.Linear(self.to_linear, fc_neuron)\n",
        "        self.fc2 = nn.Linear(fc_neuron, fc_neuron//2)\n",
        "        self.fc3 = nn.Linear(fc_neuron//2, 9)\n",
        "    def convs(self, x):\n",
        "      # First block\n",
        "      x = F.relu(self.conv1(x))\n",
        "      x = F.relu(self.conv2(x))\n",
        "      x = F.relu(self.conv3(x))\n",
        "      x = F.max_pool2d(self.bn1(x), (2, 2))\n",
        "      # Second block\n",
        "      x = F.relu(self.conv4(x))\n",
        "      x = F.relu(self.conv5(x))\n",
        "      x = F.relu(self.conv6(x))\n",
        "      x = F.max_pool2d(self.bn2(x), (2, 2))\n",
        "      # Third block\n",
        "      x = F.relu(self.conv7(x))\n",
        "      x = F.relu(self.conv8(x))\n",
        "      x = F.relu(self.conv9(x))\n",
        "      x = F.max_pool2d(self.bn3(x), (2, 2))\n",
        "      # Fourth block\n",
        "      x = F.relu(self.conv10(x))\n",
        "      x = F.relu(self.conv11(x))\n",
        "      x = F.relu(self.conv12(x))\n",
        "      x = F.max_pool2d(self.bn4(x), (2, 2))\n",
        "      if self.to_linear == None:\n",
        "          self.to_linear = x[0].shape[0]*x[0].shape[1]*x[0].shape[2]\n",
        "      return x\n",
        "    \n",
        "    def forward(self, x):\n",
        "      x = self.convs(x)\n",
        "      x = x.view(-1, self.to_linear)\n",
        "      x = F.relu(self.fc1(x))\n",
        "      x = self.dropout(x)\n",
        "      x = F.relu(self.fc2(x))\n",
        "      x = self.fc3(x)\n",
        "      return F.log_softmax(x, dim=0)"
      ],
      "execution_count": null,
      "outputs": []
    },
    {
      "cell_type": "markdown",
      "metadata": {
        "id": "KTtjlLUptvfj"
      },
      "source": [
        "### Model 4"
      ]
    },
    {
      "cell_type": "code",
      "metadata": {
        "id": "FOM_YgriJnwZ"
      },
      "source": [
        "conv_neuron = 32\n",
        "fc_neuron = 1250\n",
        "class Net(nn.Module):\n",
        "    def __init__(self):\n",
        "        super(Net, self).__init__()\n",
        "        # First Conv\n",
        "        self.conv1 = nn.Conv2d(1, conv_neuron, kernel_size=5, padding=2)\n",
        "        self.conv2 = nn.Conv2d(conv_neuron, conv_neuron, kernel_size=5, padding=2)\n",
        "        self.bn1 = nn.BatchNorm2d(conv_neuron)\n",
        "        # Second Conv\n",
        "        self.conv3 = nn.Conv2d(conv_neuron, conv_neuron*2, kernel_size=3, padding=1)\n",
        "        self.conv4 = nn.Conv2d(conv_neuron*2, conv_neuron*2, kernel_size=3, padding=1)\n",
        "        self.bn2 = nn.BatchNorm2d(conv_neuron*2)\n",
        "        # Third Conv\n",
        "        self.conv5 = nn.Conv2d(conv_neuron*2, conv_neuron*4, kernel_size=3, padding=1)\n",
        "        self.conv6 = nn.Conv2d(conv_neuron*4, conv_neuron*4, kernel_size=3, padding=1)\n",
        "        self.bn3 = nn.BatchNorm2d(conv_neuron*4)\n",
        "        # Fourth Conv\n",
        "        self.conv7 = nn.Conv2d(conv_neuron*4, conv_neuron*8, kernel_size=3, padding=1)\n",
        "        self.conv8 = nn.Conv2d(conv_neuron*8, conv_neuron*8, kernel_size=3, padding=1)\n",
        "        self.bn4 = nn.BatchNorm2d(conv_neuron*8)\n",
        "        self.dropout = nn.Dropout(0.5)\n",
        "        x = torch.randn(64, 64).view(-1, 1, 64, 64)\n",
        "        self.to_linear = None\n",
        "        self.convs(x)\n",
        "        self.fc1 = nn.Linear(self.to_linear, fc_neuron)\n",
        "        self.fc2 = nn.Linear(fc_neuron, fc_neuron//2)\n",
        "        self.fc3 = nn.Linear(fc_neuron//2, 9)\n",
        "        \n",
        "    def convs(self, x):\n",
        "      x = F.max_pool2d(self.bn1(F.relu(self.conv2(F.relu(self.conv1(x))))), (2, 2))\n",
        "      x = F.max_pool2d(self.bn2(F.relu(self.conv4(F.relu(self.conv3(x))))), (2, 2))\n",
        "      x = F.max_pool2d(self.bn3(F.relu(self.conv6(F.relu(self.conv5(x))))), (2, 2))\n",
        "      x = F.max_pool2d(self.bn4(F.relu(self.conv8(F.relu(self.conv7(x))))), (2, 2))\n",
        "      if self.to_linear == None:\n",
        "          self.to_linear = x[0].shape[0]*x[0].shape[1]*x[0].shape[2]\n",
        "      return x\n",
        "    \n",
        "    def forward(self, x):\n",
        "      x = self.convs(x)\n",
        "      x = x.view(-1, self.to_linear)\n",
        "      x = F.relu(self.fc1(x))\n",
        "      x = self.dropout(x)\n",
        "      x = F.relu(self.fc2(x))\n",
        "      x = self.fc3(x)\n",
        "      return F.log_softmax(x, dim=0)"
      ],
      "execution_count": null,
      "outputs": []
    },
    {
      "cell_type": "markdown",
      "metadata": {
        "id": "F-aqpWlIuBFU"
      },
      "source": [
        "# Train and Validation"
      ]
    },
    {
      "cell_type": "code",
      "metadata": {
        "id": "_8VrVMETJ0c6"
      },
      "source": [
        "network = Net()\n",
        "network.to(torch.device(\"cuda:0\"))\n",
        "optimizer = optim.Adam(network.parameters(), lr=0.001)\n",
        "scheduler = torch.optim.lr_scheduler.ReduceLROnPlateau(optimizer, mode='min', factor=0.5, patience=5, min_lr=1e-7, verbose=True)\n",
        "epochs = []\n",
        "train_losses = []\n",
        "train_acc = []\n",
        "valid_losses = []\n",
        "valid_acc = []"
      ],
      "execution_count": null,
      "outputs": []
    },
    {
      "cell_type": "code",
      "metadata": {
        "id": "ywc1hW53LsWO"
      },
      "source": [
        "def train_and_validation(num_epochs):\n",
        "  # Early Stopping\n",
        "  early_stop_count = 0\n",
        "  tolerance = 1e-3\n",
        "  early_stop = 50\n",
        "  temp = 0\n",
        "  for epoch in range(1, num_epochs+1):\n",
        "    epochs.append(epoch)\n",
        "    # Training\n",
        "    network.train()\n",
        "    correct = 0\n",
        "    total_train_loss = 0\n",
        "    loop = tqdm(enumerate(train_dataloader), total=len(train_dataloader), leave=False)\n",
        "    for batch_idx, (data, target) in loop:\n",
        "      # Use GPU\n",
        "      data = data.cuda()\n",
        "      target = target.cuda()\n",
        "      optimizer.zero_grad()\n",
        "      output = network(data)\n",
        "\n",
        "      # Calculate accuracy\n",
        "      pred = output.data.max(1, keepdim=True)[1]\n",
        "      correct += pred.eq(target.data.view_as(pred)).sum()\n",
        "      accuracy = correct / ((batch_idx + 1) * batch_size)\n",
        "\n",
        "      # Back-propagation\n",
        "      loss = F.nll_loss(output, target) #negative log likelihood loss\n",
        "      total_train_loss += loss.item()\n",
        "      avg_loss = total_train_loss / (batch_idx + 1)\n",
        "      loss.backward()\n",
        "      optimizer.step()\n",
        "\n",
        "      # Update progress bar\n",
        "      loop.set_description(f\"Epoch: [{epoch}/{num_epochs}]\")\n",
        "      loop.set_postfix(train_loss = avg_loss, train_acc=accuracy.item())\n",
        "\n",
        "    # Save losses and accuracy after each epoch\n",
        "    train_losses.append(avg_loss)\n",
        "    train_acc.append(accuracy)   \n",
        "\n",
        "    # Validation\n",
        "    network.eval()\n",
        "    total_valid_loss = 0\n",
        "    correct = 0\n",
        "    with torch.no_grad():\n",
        "      for batch_idx, (data, target) in enumerate(valid_dataloader):\n",
        "        data = data.cuda()\n",
        "        target = target.cuda()\n",
        "        output = network(data)\n",
        "        valid_loss = F.nll_loss(output, target)\n",
        "        total_valid_loss += F.nll_loss(output, target, size_average=False).item()\n",
        "        pred = output.data.max(1, keepdim=True)[1]\n",
        "        correct += pred.eq(target.data.view_as(pred)).sum()\n",
        "        valid_accuracy = correct / len(valid_dataloader.dataset)\n",
        "      total_valid_loss /= len(valid_dataloader.dataset)\n",
        "      # Print result for each epoch\n",
        "      print('Epoch: [{}/{}]: Validation set: Avg. loss: {:.4f}, Accuracy: {}/{} ({:.0f}%)\\n'.format(epoch, num_epochs,\n",
        "        total_valid_loss, correct, len(valid_dataloader.dataset),\n",
        "        100.0 * valid_accuracy))\n",
        "      \n",
        "    # Save losses and accuracy after each epoch \n",
        "    valid_losses.append(total_valid_loss)\n",
        "    valid_acc.append(valid_accuracy.item())  \n",
        "    # Learning rate schedular\n",
        "    scheduler.step(total_valid_loss)\n",
        "    # If the difference is smaller than the tolerance, or if the loss is increasing, add count\n",
        "    if epoch > 1:\n",
        "      if early_stop_count == 0:\n",
        "        difference = valid_losses[epoch-2] - total_valid_loss\n",
        "      else:\n",
        "        difference = temp - total_valid_loss\n",
        "      if difference <= tolerance:\n",
        "        if early_stop_count == 0:\n",
        "          # Store the loss value as a temporary value. The subsequent losses will be compared with this value\n",
        "          temp = valid_losses[epoch-2]\n",
        "        early_stop_count += 1\n",
        "      else:\n",
        "        early_stop_count = 0\n",
        "      # If the validation loss does not decrease for more than certain steps, stop the training \n",
        "      if early_stop_count == early_stop:\n",
        "        break\n",
        "    torch.save(network.state_dict(), '/content/drive/MyDrive/ECSE 551 Group 3/Assignment 3/Kuan_Models/model_1.pth')\n",
        "    torch.save(optimizer.state_dict(), '/content/drive/MyDrive/ECSE 551 Group 3/Assignment 3/Kuan_Models/optimizer_1.pth')"
      ],
      "execution_count": null,
      "outputs": []
    },
    {
      "cell_type": "code",
      "metadata": {
        "colab": {
          "base_uri": "https://localhost:8080/"
        },
        "id": "ummq19J3BkCS",
        "outputId": "bf8f46e5-c5e9-4bfe-91ec-249eab61c528"
      },
      "source": [
        "train_and_validation(200)"
      ],
      "execution_count": null,
      "outputs": [
        {
          "output_type": "stream",
          "text": [
            "/usr/local/lib/python3.6/dist-packages/torch/nn/_reduction.py:44: UserWarning: size_average and reduce args will be deprecated, please use reduction='sum' instead.\n",
            "  warnings.warn(warning.format(ret))\n"
          ],
          "name": "stderr"
        },
        {
          "output_type": "stream",
          "text": [
            "Epoch: [1/200]: Validation set: Avg. loss: 2.1045, Accuracy: 9733/10000 (97%)\n",
            "\n"
          ],
          "name": "stdout"
        },
        {
          "output_type": "stream",
          "text": [
            ""
          ],
          "name": "stderr"
        },
        {
          "output_type": "stream",
          "text": [
            "Epoch: [2/200]: Validation set: Avg. loss: 2.1095, Accuracy: 9722/10000 (97%)\n",
            "\n"
          ],
          "name": "stdout"
        },
        {
          "output_type": "stream",
          "text": [
            ""
          ],
          "name": "stderr"
        },
        {
          "output_type": "stream",
          "text": [
            "Epoch: [3/200]: Validation set: Avg. loss: 2.1135, Accuracy: 9716/10000 (97%)\n",
            "\n"
          ],
          "name": "stdout"
        },
        {
          "output_type": "stream",
          "text": [
            ""
          ],
          "name": "stderr"
        },
        {
          "output_type": "stream",
          "text": [
            "Epoch: [4/200]: Validation set: Avg. loss: 2.1096, Accuracy: 9720/10000 (97%)\n",
            "\n"
          ],
          "name": "stdout"
        },
        {
          "output_type": "stream",
          "text": [
            ""
          ],
          "name": "stderr"
        },
        {
          "output_type": "stream",
          "text": [
            "Epoch: [5/200]: Validation set: Avg. loss: 2.1070, Accuracy: 9741/10000 (97%)\n",
            "\n"
          ],
          "name": "stdout"
        },
        {
          "output_type": "stream",
          "text": [
            ""
          ],
          "name": "stderr"
        },
        {
          "output_type": "stream",
          "text": [
            "Epoch: [6/200]: Validation set: Avg. loss: 2.1062, Accuracy: 9726/10000 (97%)\n",
            "\n"
          ],
          "name": "stdout"
        },
        {
          "output_type": "stream",
          "text": [
            ""
          ],
          "name": "stderr"
        },
        {
          "output_type": "stream",
          "text": [
            "Epoch: [7/200]: Validation set: Avg. loss: 2.1055, Accuracy: 9737/10000 (97%)\n",
            "\n",
            "Epoch   138: reducing learning rate of group 0 to 6.2500e-05.\n"
          ],
          "name": "stdout"
        },
        {
          "output_type": "stream",
          "text": [
            ""
          ],
          "name": "stderr"
        },
        {
          "output_type": "stream",
          "text": [
            "Epoch: [8/200]: Validation set: Avg. loss: 2.1035, Accuracy: 9748/10000 (97%)\n",
            "\n"
          ],
          "name": "stdout"
        },
        {
          "output_type": "stream",
          "text": [
            ""
          ],
          "name": "stderr"
        },
        {
          "output_type": "stream",
          "text": [
            "Epoch: [9/200]: Validation set: Avg. loss: 2.1080, Accuracy: 9745/10000 (97%)\n",
            "\n"
          ],
          "name": "stdout"
        },
        {
          "output_type": "stream",
          "text": [
            ""
          ],
          "name": "stderr"
        },
        {
          "output_type": "stream",
          "text": [
            "Epoch: [10/200]: Validation set: Avg. loss: 2.1022, Accuracy: 9755/10000 (98%)\n",
            "\n"
          ],
          "name": "stdout"
        },
        {
          "output_type": "stream",
          "text": [
            ""
          ],
          "name": "stderr"
        },
        {
          "output_type": "stream",
          "text": [
            "Epoch: [11/200]: Validation set: Avg. loss: 2.1038, Accuracy: 9745/10000 (97%)\n",
            "\n"
          ],
          "name": "stdout"
        },
        {
          "output_type": "stream",
          "text": [
            ""
          ],
          "name": "stderr"
        },
        {
          "output_type": "stream",
          "text": [
            "Epoch: [12/200]: Validation set: Avg. loss: 2.1022, Accuracy: 9759/10000 (98%)\n",
            "\n"
          ],
          "name": "stdout"
        },
        {
          "output_type": "stream",
          "text": [
            ""
          ],
          "name": "stderr"
        },
        {
          "output_type": "stream",
          "text": [
            "Epoch: [13/200]: Validation set: Avg. loss: 2.0997, Accuracy: 9757/10000 (98%)\n",
            "\n"
          ],
          "name": "stdout"
        },
        {
          "output_type": "stream",
          "text": [
            ""
          ],
          "name": "stderr"
        },
        {
          "output_type": "stream",
          "text": [
            "Epoch: [14/200]: Validation set: Avg. loss: 2.0996, Accuracy: 9732/10000 (97%)\n",
            "\n"
          ],
          "name": "stdout"
        },
        {
          "output_type": "stream",
          "text": [
            ""
          ],
          "name": "stderr"
        },
        {
          "output_type": "stream",
          "text": [
            "Epoch: [15/200]: Validation set: Avg. loss: 2.1039, Accuracy: 9740/10000 (97%)\n",
            "\n"
          ],
          "name": "stdout"
        },
        {
          "output_type": "stream",
          "text": [
            ""
          ],
          "name": "stderr"
        },
        {
          "output_type": "stream",
          "text": [
            "Epoch: [16/200]: Validation set: Avg. loss: 2.1007, Accuracy: 9753/10000 (98%)\n",
            "\n"
          ],
          "name": "stdout"
        },
        {
          "output_type": "stream",
          "text": [
            ""
          ],
          "name": "stderr"
        },
        {
          "output_type": "stream",
          "text": [
            "Epoch: [17/200]: Validation set: Avg. loss: 2.1054, Accuracy: 9746/10000 (97%)\n",
            "\n"
          ],
          "name": "stdout"
        },
        {
          "output_type": "stream",
          "text": [
            ""
          ],
          "name": "stderr"
        },
        {
          "output_type": "stream",
          "text": [
            "Epoch: [18/200]: Validation set: Avg. loss: 2.0994, Accuracy: 9745/10000 (97%)\n",
            "\n"
          ],
          "name": "stdout"
        },
        {
          "output_type": "stream",
          "text": [
            ""
          ],
          "name": "stderr"
        },
        {
          "output_type": "stream",
          "text": [
            "Epoch: [19/200]: Validation set: Avg. loss: 2.1056, Accuracy: 9751/10000 (98%)\n",
            "\n"
          ],
          "name": "stdout"
        },
        {
          "output_type": "stream",
          "text": [
            ""
          ],
          "name": "stderr"
        },
        {
          "output_type": "stream",
          "text": [
            "Epoch: [20/200]: Validation set: Avg. loss: 2.1043, Accuracy: 9762/10000 (98%)\n",
            "\n"
          ],
          "name": "stdout"
        },
        {
          "output_type": "stream",
          "text": [
            ""
          ],
          "name": "stderr"
        },
        {
          "output_type": "stream",
          "text": [
            "Epoch: [21/200]: Validation set: Avg. loss: 2.1065, Accuracy: 9732/10000 (97%)\n",
            "\n"
          ],
          "name": "stdout"
        },
        {
          "output_type": "stream",
          "text": [
            ""
          ],
          "name": "stderr"
        },
        {
          "output_type": "stream",
          "text": [
            "Epoch: [22/200]: Validation set: Avg. loss: 2.1006, Accuracy: 9741/10000 (97%)\n",
            "\n"
          ],
          "name": "stdout"
        },
        {
          "output_type": "stream",
          "text": [
            ""
          ],
          "name": "stderr"
        },
        {
          "output_type": "stream",
          "text": [
            "Epoch: [23/200]: Validation set: Avg. loss: 2.1029, Accuracy: 9761/10000 (98%)\n",
            "\n"
          ],
          "name": "stdout"
        },
        {
          "output_type": "stream",
          "text": [
            ""
          ],
          "name": "stderr"
        },
        {
          "output_type": "stream",
          "text": [
            "Epoch: [24/200]: Validation set: Avg. loss: 2.1058, Accuracy: 9750/10000 (98%)\n",
            "\n",
            "Epoch   155: reducing learning rate of group 0 to 3.1250e-05.\n"
          ],
          "name": "stdout"
        },
        {
          "output_type": "stream",
          "text": [
            ""
          ],
          "name": "stderr"
        },
        {
          "output_type": "stream",
          "text": [
            "Epoch: [25/200]: Validation set: Avg. loss: 2.1037, Accuracy: 9758/10000 (98%)\n",
            "\n"
          ],
          "name": "stdout"
        },
        {
          "output_type": "stream",
          "text": [
            ""
          ],
          "name": "stderr"
        },
        {
          "output_type": "stream",
          "text": [
            "Epoch: [26/200]: Validation set: Avg. loss: 2.1004, Accuracy: 9751/10000 (98%)\n",
            "\n"
          ],
          "name": "stdout"
        },
        {
          "output_type": "stream",
          "text": [
            ""
          ],
          "name": "stderr"
        },
        {
          "output_type": "stream",
          "text": [
            "Epoch: [27/200]: Validation set: Avg. loss: 2.1020, Accuracy: 9756/10000 (98%)\n",
            "\n"
          ],
          "name": "stdout"
        },
        {
          "output_type": "stream",
          "text": [
            ""
          ],
          "name": "stderr"
        },
        {
          "output_type": "stream",
          "text": [
            "Epoch: [28/200]: Validation set: Avg. loss: 2.1029, Accuracy: 9740/10000 (97%)\n",
            "\n"
          ],
          "name": "stdout"
        },
        {
          "output_type": "stream",
          "text": [
            ""
          ],
          "name": "stderr"
        },
        {
          "output_type": "stream",
          "text": [
            "Epoch: [29/200]: Validation set: Avg. loss: 2.0993, Accuracy: 9769/10000 (98%)\n",
            "\n"
          ],
          "name": "stdout"
        },
        {
          "output_type": "stream",
          "text": [
            ""
          ],
          "name": "stderr"
        },
        {
          "output_type": "stream",
          "text": [
            "Epoch: [30/200]: Validation set: Avg. loss: 2.1034, Accuracy: 9761/10000 (98%)\n",
            "\n",
            "Epoch   161: reducing learning rate of group 0 to 1.5625e-05.\n"
          ],
          "name": "stdout"
        },
        {
          "output_type": "stream",
          "text": [
            ""
          ],
          "name": "stderr"
        },
        {
          "output_type": "stream",
          "text": [
            "Epoch: [31/200]: Validation set: Avg. loss: 2.0999, Accuracy: 9769/10000 (98%)\n",
            "\n"
          ],
          "name": "stdout"
        },
        {
          "output_type": "stream",
          "text": [
            ""
          ],
          "name": "stderr"
        },
        {
          "output_type": "stream",
          "text": [
            "Epoch: [32/200]: Validation set: Avg. loss: 2.0987, Accuracy: 9760/10000 (98%)\n",
            "\n"
          ],
          "name": "stdout"
        },
        {
          "output_type": "stream",
          "text": [
            ""
          ],
          "name": "stderr"
        },
        {
          "output_type": "stream",
          "text": [
            "Epoch: [33/200]: Validation set: Avg. loss: 2.1010, Accuracy: 9762/10000 (98%)\n",
            "\n"
          ],
          "name": "stdout"
        },
        {
          "output_type": "stream",
          "text": [
            ""
          ],
          "name": "stderr"
        },
        {
          "output_type": "stream",
          "text": [
            "Epoch: [34/200]: Validation set: Avg. loss: 2.1011, Accuracy: 9749/10000 (97%)\n",
            "\n"
          ],
          "name": "stdout"
        },
        {
          "output_type": "stream",
          "text": [
            ""
          ],
          "name": "stderr"
        },
        {
          "output_type": "stream",
          "text": [
            "Epoch: [35/200]: Validation set: Avg. loss: 2.1024, Accuracy: 9756/10000 (98%)\n",
            "\n"
          ],
          "name": "stdout"
        },
        {
          "output_type": "stream",
          "text": [
            "Epoch: [36/200]:  11%|█         | 86/782 [00:06<00:52, 13.22it/s, train_acc=0.963, train_loss=2.13]"
          ],
          "name": "stderr"
        },
        {
          "output_type": "stream",
          "text": [
            "Buffered data was truncated after reaching the output size limit."
          ],
          "name": "stdout"
        }
      ]
    },
    {
      "cell_type": "markdown",
      "metadata": {
        "id": "UQBjoUq6t9z0"
      },
      "source": [
        "## Plot Training Progress"
      ]
    },
    {
      "cell_type": "code",
      "metadata": {
        "id": "JDXNdSa2cvhz",
        "colab": {
          "base_uri": "https://localhost:8080/",
          "height": 279
        },
        "outputId": "3099abfd-f904-45a4-da15-03f4a6902f87"
      },
      "source": [
        "sns.set_style(\"darkgrid\")\n",
        "fig = plt.figure()\n",
        "plt.plot(epochs, train_losses, color='blue', label='Train', alpha=0.5, lw=2.5)\n",
        "plt.plot(epochs, valid_losses, color='red', label='Valid', alpha=0.5, lw=2.5)\n",
        "plt.legend()\n",
        "plt.xlabel('Epochs')\n",
        "plt.ylabel('Negative Log Likelihood Loss Per Epoch')\n",
        "plt.show()"
      ],
      "execution_count": null,
      "outputs": [
        {
          "output_type": "display_data",
          "data": {
            "image/png": "[encoded data removed]",
            "text/plain": [
              "<Figure size 432x288 with 1 Axes>"
            ]
          },
          "metadata": {
            "tags": []
          }
        }
      ]
    },
    {
      "cell_type": "code",
      "metadata": {
        "id": "u5hQLr0iFzBg",
        "colab": {
          "base_uri": "https://localhost:8080/",
          "height": 281
        },
        "outputId": "e321906b-0ed7-46eb-bda1-ccc32429d135"
      },
      "source": [
        "sns.set_style(\"darkgrid\")\n",
        "fig = plt.figure()\n",
        "plt.plot(epochs, train_acc, color='blue', label='Train', alpha=0.5, lw=2.5)\n",
        "plt.plot(epochs, valid_acc, color='red', label='Valid', alpha=0.5, lw=2.5)\n",
        "plt.legend()\n",
        "plt.xlabel('Epochs')\n",
        "plt.ylabel('Accuracy')\n",
        "plt.show()"
      ],
      "execution_count": null,
      "outputs": [
        {
          "output_type": "display_data",
          "data": {
            "image/png": "[encoded data removed]",
            "text/plain": [
              "<Figure size 432x288 with 1 Axes>"
            ]
          },
          "metadata": {
            "tags": []
          }
        }
      ]
    },
    {
      "cell_type": "markdown",
      "metadata": {
        "id": "2cw42SWMWxaY"
      },
      "source": [
        "# Test Evaluation"
      ]
    },
    {
      "cell_type": "code",
      "metadata": {
        "id": "BU8iKLMpZp4s"
      },
      "source": [
        "network = Net()\n",
        "network.to(torch.device(\"cuda:0\"))\n",
        "optimizer = optim.Adam(network.parameters(), lr=0.001)\n",
        "schedular = torch.optim.lr_scheduler.MultiStepLR(optimizer, milestones=[60, 90, 100, 110, 115, 120, 125], gamma=0.5)"
      ],
      "execution_count": null,
      "outputs": []
    },
    {
      "cell_type": "code",
      "metadata": {
        "id": "FeOfYedLZ_R3"
      },
      "source": [
        "def train(num_epochs):\n",
        "  for epoch in range(1, num_epochs+1):\n",
        "    epochs.append(epoch)\n",
        "    # Training\n",
        "    network.train()\n",
        "    correct = 0\n",
        "    total_train_loss = 0\n",
        "    loop = tqdm(enumerate(dataloader), total=len(dataloader), leave=True)\n",
        "    for batch_idx, (data, target) in loop:\n",
        "      # Use GPU\n",
        "      data = data.cuda()\n",
        "      target = target.cuda()\n",
        "      optimizer.zero_grad()\n",
        "      output = network(data)\n",
        "\n",
        "      # Calculate accuracy\n",
        "      pred = output.data.max(1, keepdim=True)[1]\n",
        "      correct += pred.eq(target.data.view_as(pred)).sum()\n",
        "      accuracy = correct / ((batch_idx + 1) * batch_size)\n",
        "\n",
        "      # Back-propagation\n",
        "      loss = F.nll_loss(output, target) #negative log likelihood loss\n",
        "      total_train_loss += loss.item()\n",
        "      avg_loss = total_train_loss / (batch_idx + 1)\n",
        "      loss.backward()\n",
        "      optimizer.step()\n",
        "\n",
        "      # Update progress bar\n",
        "      loop.set_description(f\"Epoch: [{epoch}/{num_epochs}]\")\n",
        "      loop.set_postfix(train_loss = avg_loss, train_acc=accuracy.item())\n",
        "    schedular.step()\n",
        "  torch.save(network.state_dict(), '/content/drive/MyDrive/ECSE 551 Group 3/Assignment 3/Kuan_Models/model_final.pth')\n",
        "  torch.save(optimizer.state_dict(), '/content/drive/MyDrive/ECSE 551 Group 3/Assignment 3/Kuan_Models/optimizer_final.pth')"
      ],
      "execution_count": null,
      "outputs": []
    },
    {
      "cell_type": "code",
      "metadata": {
        "id": "AMdxtQY9a2p9",
        "colab": {
          "base_uri": "https://localhost:8080/"
        },
        "outputId": "93ade5fb-6e4c-4431-a447-e8d96651e997"
      },
      "source": [
        "train(70)"
      ],
      "execution_count": null,
      "outputs": [
        {
          "output_type": "stream",
          "text": [
            "Epoch: [1/70]: 100%|██████████| 938/938 [01:46<00:00,  8.78it/s, train_acc=0.273, train_loss=3.76]\n",
            "Epoch: [2/70]: 100%|██████████| 938/938 [01:46<00:00,  8.83it/s, train_acc=0.43, train_loss=3.43]\n",
            "Epoch: [3/70]: 100%|██████████| 938/938 [01:45<00:00,  8.89it/s, train_acc=0.559, train_loss=3.23]\n",
            "Epoch: [4/70]: 100%|██████████| 938/938 [01:46<00:00,  8.84it/s, train_acc=0.63, train_loss=3.1]\n",
            "Epoch: [5/70]: 100%|██████████| 938/938 [01:45<00:00,  8.87it/s, train_acc=0.667, train_loss=3.01]\n",
            "Epoch: [6/70]: 100%|██████████| 938/938 [01:46<00:00,  8.83it/s, train_acc=0.688, train_loss=2.96]\n",
            "Epoch: [7/70]: 100%|██████████| 938/938 [01:46<00:00,  8.83it/s, train_acc=0.703, train_loss=2.92]\n",
            "Epoch: [8/70]: 100%|██████████| 938/938 [01:46<00:00,  8.77it/s, train_acc=0.718, train_loss=2.89]\n",
            "Epoch: [9/70]: 100%|██████████| 938/938 [01:45<00:00,  8.88it/s, train_acc=0.728, train_loss=2.87]\n",
            "Epoch: [10/70]: 100%|██████████| 938/938 [01:45<00:00,  8.86it/s, train_acc=0.736, train_loss=2.85]\n",
            "Epoch: [11/70]: 100%|██████████| 938/938 [01:45<00:00,  8.86it/s, train_acc=0.74, train_loss=2.84]\n",
            "Epoch: [12/70]: 100%|██████████| 938/938 [01:44<00:00,  8.93it/s, train_acc=0.744, train_loss=2.82]\n",
            "Epoch: [13/70]: 100%|██████████| 938/938 [01:44<00:00,  9.00it/s, train_acc=0.749, train_loss=2.81]\n",
            "Epoch: [14/70]: 100%|██████████| 938/938 [01:46<00:00,  8.83it/s, train_acc=0.754, train_loss=2.8]\n",
            "Epoch: [15/70]: 100%|██████████| 938/938 [01:45<00:00,  8.86it/s, train_acc=0.757, train_loss=2.79]\n",
            "Epoch: [16/70]: 100%|██████████| 938/938 [01:50<00:00,  8.48it/s, train_acc=0.759, train_loss=2.78]\n",
            "Epoch: [17/70]: 100%|██████████| 938/938 [01:47<00:00,  8.70it/s, train_acc=0.766, train_loss=2.77]\n",
            "Epoch: [18/70]: 100%|██████████| 938/938 [01:47<00:00,  8.74it/s, train_acc=0.764, train_loss=2.77]\n",
            "Epoch: [19/70]: 100%|██████████| 938/938 [01:51<00:00,  8.44it/s, train_acc=0.769, train_loss=2.76]\n",
            "Epoch: [20/70]: 100%|██████████| 938/938 [01:51<00:00,  8.43it/s, train_acc=0.769, train_loss=2.75]\n",
            "Epoch: [21/70]: 100%|██████████| 938/938 [01:56<00:00,  8.02it/s, train_acc=0.773, train_loss=2.75]\n",
            "Epoch: [22/70]: 100%|██████████| 938/938 [01:45<00:00,  8.89it/s, train_acc=0.775, train_loss=2.74]\n",
            "Epoch: [23/70]: 100%|██████████| 938/938 [01:45<00:00,  8.90it/s, train_acc=0.778, train_loss=2.73]\n",
            "Epoch: [24/70]: 100%|██████████| 938/938 [01:50<00:00,  8.52it/s, train_acc=0.782, train_loss=2.72]\n",
            "Epoch: [25/70]:  53%|█████▎    | 501/938 [01:03<00:48,  9.07it/s, train_acc=0.783, train_loss=2.72]"
          ],
          "name": "stderr"
        },
        {
          "output_type": "stream",
          "text": [
            "Buffered data was truncated after reaching the output size limit."
          ],
          "name": "stdout"
        }
      ]
    },
    {
      "cell_type": "code",
      "metadata": {
        "id": "wAwVhqdCuPiU"
      },
      "source": [
        "# Read image data and their label into a Dataset class\n",
        "test_dataset = MyDataset('/content/drive/MyDrive/Kuan/Test.pkl', '/content/drive/MyDrive/Kuan/TrainLabels.csv',transform=img_transform, idx=np.arange(10000))\n",
        "batch_size = 64 #feel free to change it\n",
        "test_dataloader = DataLoader(test_dataset, batch_size=batch_size, shuffle=False)"
      ],
      "execution_count": null,
      "outputs": []
    },
    {
      "cell_type": "code",
      "metadata": {
        "id": "xoxaU7y3uqNB"
      },
      "source": [
        "network.eval()\n",
        "total_pred = []\n",
        "with torch.no_grad():\n",
        "  for idx, (data, target) in enumerate(test_dataloader):\n",
        "    data = data.cuda()\n",
        "    target = target.cuda()\n",
        "    output = network(data)\n",
        "    pred = output.data.max(1, keepdim=True)[1] + 5\n",
        "    if idx == 0:\n",
        "      total_pred = pred\n",
        "    else:\n",
        "      total_pred = torch.cat([total_pred, pred], dim=0)"
      ],
      "execution_count": null,
      "outputs": []
    },
    {
      "cell_type": "code",
      "metadata": {
        "id": "Js92ubG2uzF4"
      },
      "source": [
        "# Submission\n",
        "total_pred = np.array(total_pred.cpu().detach())\n",
        "submission = pd.DataFrame(total_pred)\n",
        "submission.to_csv('/content/drive/MyDrive/Kuan/kuan_submission_3_new.csv')"
      ],
      "execution_count": null,
      "outputs": []
    }
  ]
}